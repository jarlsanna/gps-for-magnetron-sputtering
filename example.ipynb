{
 "cells": [
  {
   "cell_type": "markdown",
   "metadata": {},
   "source": [
    "# Active learning framework\n",
    "Example of the active learning framework"
   ]
  },
  {
   "cell_type": "code",
   "execution_count": 1,
   "metadata": {},
   "outputs": [
    {
     "name": "stdout",
     "output_type": "stream",
     "text": [
      "cpu\n"
     ]
    },
    {
     "name": "stderr",
     "output_type": "stream",
     "text": [
      "/Users/sannajarl/anaconda3/envs/botorch/lib/python3.12/site-packages/tqdm/auto.py:21: TqdmWarning: IProgress not found. Please update jupyter and ipywidgets. See https://ipywidgets.readthedocs.io/en/stable/user_install.html\n",
      "  from .autonotebook import tqdm as notebook_tqdm\n"
     ]
    }
   ],
   "source": [
    "import torch\n",
    "import numpy as np\n",
    "import pandas as pd\n",
    "import metrics\n",
    "import gp_utils\n",
    "from botorch.fit import fit_gpytorch_mll\n",
    "from botorch.acquisition.active_learning import qNegIntegratedPosteriorVariance\n",
    "device = torch.device(\"cuda\" if torch.cuda.is_available() else \"cpu\")"
   ]
  },
  {
   "cell_type": "markdown",
   "metadata": {},
   "source": [
    "## Load and split the data\n",
    "The below section is for Case 3, for Case 1 and 2 use the data split function in data_utils. "
   ]
  },
  {
   "cell_type": "code",
   "execution_count": 2,
   "metadata": {},
   "outputs": [],
   "source": [
    "df = pd.read_csv('Zr_grid_interpolated_C009_S006.csv', delimiter=\",\")\n",
    "targets_cols = ['qcm_1_mass_rate_[ng/cm2s]', 'qcm_2_mass_rate_[ng/cm2s]', 'qcm_3_mass_rate_[ng/cm2s]']\n",
    "input_features = ['source_1_set_power_[W]', 'set_pressure_[mTorr]']\n",
    "df = df[df['set_pressure_[mTorr]'] > 5]\n",
    "X = df[input_features]\n",
    "X1 = df[input_features[0]] # power\n",
    "X2 = df[input_features[1]] # pressure\n",
    "Y = df[targets_cols[0]]\n",
    "X_init = np.array([[1, 7], [43, 7], [1, 43], [43, 43], [22, 25]], dtype=float) # [pow, pres], used in Case 3\n",
    "condition = np.where(X_init[0] == X.values, True, False)\n",
    "init_idx = [np.where(np.sum(np.where(x == X.values, True, False), axis=1) == 2)[0].item() for x in X_init]\n",
    "X_train = torch.from_numpy(X_init)\n",
    "Y_train = torch.from_numpy(Y.values[init_idx]).unsqueeze(-1)\n",
    "mask = np.ones(X.shape[0], dtype=bool)\n",
    "mask[init_idx] = False\n",
    "X_test = torch.from_numpy(X[mask].values).to(torch.float64)\n",
    "Y_test = torch.from_numpy(Y[mask].values).to(torch.float64).unsqueeze(-1)"
   ]
  },
  {
   "cell_type": "markdown",
   "metadata": {},
   "source": [
    "## Active learning"
   ]
  },
  {
   "cell_type": "code",
   "execution_count": null,
   "metadata": {},
   "outputs": [],
   "source": [
    "acquisition_strategy = 'nipv_smart'\n",
    "N = 50\n",
    "scores_df = pd.DataFrame(\n",
    "    columns=['nmll', 'rmse'], dtype=object)\n",
    "gp_params = pd.DataFrame(columns=['lenghtscale', 'variance'])\n",
    "\n",
    "for trial in range(0, 1):\n",
    "    print('Trial: ', trial)\n",
    "    X_pending = None\n",
    "    budget = N\n",
    "    X_bald = X_train.to(device)\n",
    "    Y_bald = Y_train.to(device)\n",
    "\n",
    "    while budget > 0:\n",
    "        budget -= 1\n",
    "        print('Budget: ', budget)\n",
    "        model, mll = gp_utils.defineSTGP(X_bald, Y_bald, device=device)\n",
    "        mll = fit_gpytorch_mll(mll)\n",
    "\n",
    "        with torch.no_grad():\n",
    "            model.eval()\n",
    "            mll.eval()\n",
    "            prediction = model(X_test)\n",
    "            output = model.likelihood(prediction) \n",
    "\n",
    "        weights = torch.DoubleTensor([1.0]).to(device)\n",
    "        scores_df.at[N-budget-1, 'rmse'] = metrics.calculate_rmse(model, X_test, Y_test)\n",
    "        nmll = -mll(prediction, Y_test.T)\n",
    "        print('nmll: ', nmll)\n",
    "        scores_df.at[N-budget-1, 'nmll'] = nmll.sum().item()\n",
    "\n",
    "        acqf = qNegIntegratedPosteriorVariance(model, X_test)\n",
    "        with torch.no_grad():\n",
    "            acq_vals = acqf(X_test.unsqueeze(1))\n",
    "        best_idx = torch.argmax(acq_vals)  # Index of the best point\n",
    "        candidate = X_test[best_idx]  # Coordinates of the best point\n",
    "        best_acq_value = acq_vals[best_idx] \n",
    "\n",
    "        candidate = candidate.to(device)\n",
    "        print(candidate)\n",
    "\n",
    "        X_bald = torch.cat([X_bald, candidate.unsqueeze(0)])\n",
    "        Y_bald = torch.cat(\n",
    "            [Y_bald, Y_test[best_idx].unsqueeze(0)])\n",
    "        gp_params.loc[N-budget-1] = {\n",
    "            'lenghtscale': model.state_dict()['covar_module.raw_lengthscale'].squeeze().detach().numpy(),\n",
    "            'variance': model.state_dict()['likelihood.noise_covar.raw_noise'].detach().item()\n",
    "        }"
   ]
  }
 ],
 "metadata": {
  "kernelspec": {
   "display_name": "botorch",
   "language": "python",
   "name": "python3"
  },
  "language_info": {
   "codemirror_mode": {
    "name": "ipython",
    "version": 3
   },
   "file_extension": ".py",
   "mimetype": "text/x-python",
   "name": "python",
   "nbconvert_exporter": "python",
   "pygments_lexer": "ipython3",
   "version": "3.12.7"
  }
 },
 "nbformat": 4,
 "nbformat_minor": 2
}
